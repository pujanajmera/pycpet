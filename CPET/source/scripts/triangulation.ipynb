{
 "cells": [
  {
   "cell_type": "code",
   "execution_count": 11,
   "metadata": {},
   "outputs": [
    {
     "name": "stdout",
     "output_type": "stream",
     "text": [
      "/home/santiagovargas/dev/CPET-python/data/triangulation/topo/reference/2w0a.top\n",
      "/home/santiagovargas/dev/CPET-python/data/triangulation/topo/reference/3atj.top\n",
      "/home/santiagovargas/dev/CPET-python/data/triangulation/topo/reference/3mgx.top\n",
      "Max distance: 10.2571\n",
      "Min distance: 0.0\n",
      "Max curvature: 23.0602\n",
      "Min curvature: 0.00173876\n",
      "Plotting histo for /home/santiagovargas/dev/CPET-python/data/triangulation/topo/reference/2w0a.top\n",
      "Plotting histo for /home/santiagovargas/dev/CPET-python/data/triangulation/topo/reference/3atj.top\n",
      "Plotting histo for /home/santiagovargas/dev/CPET-python/data/triangulation/topo/reference/3mgx.top\n",
      "Plotting histo for /home/santiagovargas/dev/CPET-python/data/triangulation/topo/test/1ued.top\n",
      "/home/santiagovargas/dev/CPET-python/data/triangulation/topo/reference/2w0a.top\n",
      "/home/santiagovargas/dev/CPET-python/data/triangulation/topo/reference/3atj.top\n",
      "/home/santiagovargas/dev/CPET-python/data/triangulation/topo/reference/3mgx.top\n",
      "Max distance: 10.2571\n",
      "Min distance: 0.0\n",
      "Max curvature: 23.0602\n",
      "Min curvature: 0.00173876\n",
      "Plotting histo for /home/santiagovargas/dev/CPET-python/data/triangulation/topo/reference/2w0a.top\n",
      "Plotting histo for /home/santiagovargas/dev/CPET-python/data/triangulation/topo/reference/3atj.top\n",
      "Plotting histo for /home/santiagovargas/dev/CPET-python/data/triangulation/topo/reference/3mgx.top\n",
      "Plotting histo for /home/santiagovargas/dev/CPET-python/data/triangulation/topo/test/1sy7.top\n",
      "/home/santiagovargas/dev/CPET-python/data/triangulation/topo/reference/2w0a.top\n",
      "/home/santiagovargas/dev/CPET-python/data/triangulation/topo/reference/3atj.top\n",
      "/home/santiagovargas/dev/CPET-python/data/triangulation/topo/reference/3mgx.top\n",
      "Max distance: 10.2571\n",
      "Min distance: 0.0\n",
      "Max curvature: 23.0602\n",
      "Min curvature: 0.00173876\n",
      "Plotting histo for /home/santiagovargas/dev/CPET-python/data/triangulation/topo/reference/2w0a.top\n",
      "Plotting histo for /home/santiagovargas/dev/CPET-python/data/triangulation/topo/reference/3atj.top\n",
      "Plotting histo for /home/santiagovargas/dev/CPET-python/data/triangulation/topo/reference/3mgx.top\n",
      "Plotting histo for /home/santiagovargas/dev/CPET-python/data/triangulation/topo/test/1u5u.top\n",
      "/home/santiagovargas/dev/CPET-python/data/triangulation/topo/reference/2w0a.top\n",
      "/home/santiagovargas/dev/CPET-python/data/triangulation/topo/reference/3atj.top\n",
      "/home/santiagovargas/dev/CPET-python/data/triangulation/topo/reference/3mgx.top\n",
      "Max distance: 10.2571\n",
      "Min distance: 0.0\n",
      "Max curvature: 23.0602\n",
      "Min curvature: 0.00173876\n",
      "Plotting histo for /home/santiagovargas/dev/CPET-python/data/triangulation/topo/reference/2w0a.top\n",
      "Plotting histo for /home/santiagovargas/dev/CPET-python/data/triangulation/topo/reference/3atj.top\n",
      "Plotting histo for /home/santiagovargas/dev/CPET-python/data/triangulation/topo/reference/3mgx.top\n",
      "Plotting histo for /home/santiagovargas/dev/CPET-python/data/triangulation/topo/test/1si8.top\n",
      "/home/santiagovargas/dev/CPET-python/data/triangulation/topo/reference/2w0a.top\n",
      "/home/santiagovargas/dev/CPET-python/data/triangulation/topo/reference/3atj.top\n",
      "/home/santiagovargas/dev/CPET-python/data/triangulation/topo/reference/3mgx.top\n",
      "Max distance: 10.2571\n",
      "Min distance: 0.0\n",
      "Max curvature: 23.0602\n",
      "Min curvature: 0.00173876\n",
      "Plotting histo for /home/santiagovargas/dev/CPET-python/data/triangulation/topo/reference/2w0a.top\n",
      "Plotting histo for /home/santiagovargas/dev/CPET-python/data/triangulation/topo/reference/3atj.top\n",
      "Plotting histo for /home/santiagovargas/dev/CPET-python/data/triangulation/topo/reference/3mgx.top\n",
      "Plotting histo for /home/santiagovargas/dev/CPET-python/data/triangulation/topo/test/1ulw.top\n",
      "/home/santiagovargas/dev/CPET-python/data/triangulation/topo/reference/2w0a.top\n",
      "/home/santiagovargas/dev/CPET-python/data/triangulation/topo/reference/3atj.top\n",
      "/home/santiagovargas/dev/CPET-python/data/triangulation/topo/reference/3mgx.top\n",
      "Max distance: 10.2571\n",
      "Min distance: 0.0\n",
      "Max curvature: 23.0602\n",
      "Min curvature: 0.00173876\n",
      "Plotting histo for /home/santiagovargas/dev/CPET-python/data/triangulation/topo/reference/2w0a.top\n",
      "Plotting histo for /home/santiagovargas/dev/CPET-python/data/triangulation/topo/reference/3atj.top\n",
      "Plotting histo for /home/santiagovargas/dev/CPET-python/data/triangulation/topo/reference/3mgx.top\n",
      "Plotting histo for /home/santiagovargas/dev/CPET-python/data/triangulation/topo/test/1lga.top\n"
     ]
    },
    {
     "data": {
      "image/png": "[encoded data removed]",
      "text/plain": [
       "<Figure size 640x480 with 1 Axes>"
      ]
     },
     "metadata": {},
     "output_type": "display_data"
    }
   ],
   "source": [
    "from CPET.source.calculator import calculator\n",
    "from CPET.utils.calculator import make_histograms, construct_distance_matrix, construct_distance_matrix_alt2, construct_distance_matrix_alt\n",
    "import glob as glob \n",
    "import numpy as np \n",
    "import matplotlib.pyplot as plt\n",
    "import matplotlib\n",
    "\n",
    "def relative_descriptor(target_file, reference_folder, representation= 'topology'):\n",
    "    \"\"\"\n",
    "    Compute a relative descriptor as the distance between the target file and a reference folder files.\n",
    "\n",
    "    target_file: str\n",
    "        The path to the target file\n",
    "    reference_folder: str\n",
    "        The path to the reference folder\n",
    "    representation: str\n",
    "        The representation of the target file. Default is 'topology'. TODO: add field\n",
    "    \"\"\"\n",
    "    files_reference = glob.glob(reference_folder + '/*')\n",
    "    #iles = files_reference + [target_file]\n",
    "    histogram_relative = make_histograms_reference(target_file, files_reference, plot=False)[-1]\n",
    "    \n",
    "    return histogram_relative\n",
    "\n",
    "\n",
    "\n",
    "folder_ref = \"/home/santiagovargas/dev/CPET-python/data/triangulation/topo/reference/\"\n",
    "folder_targets = \"/home/santiagovargas/dev/CPET-python/data/triangulation/topo/test/\"\n",
    "\n",
    "files_reference = glob.glob(folder_ref + '/*top')\n",
    "hists_relative = []\n",
    "for file in glob.glob(folder_targets + '/*top'):\n",
    "    hists_relative.append(relative_descriptor(file, folder_ref))"
   ]
  },
  {
   "cell_type": "code",
   "execution_count": 9,
   "metadata": {},
   "outputs": [
    {
     "data": {
      "text/plain": [
       "6"
      ]
     },
     "execution_count": 9,
     "metadata": {},
     "output_type": "execute_result"
    }
   ],
   "source": [
    "len(hists_relative)"
   ]
  },
  {
   "cell_type": "code",
   "execution_count": null,
   "metadata": {},
   "outputs": [],
   "source": [
    "\n",
    "def distance_numpy(hist1, hist2):\n",
    "    a = (hist1 - hist2) ** 2\n",
    "    b = hist1 + hist2\n",
    "    return np.sum(np.divide(a, b, out=np.zeros_like(a), where=b != 0)) / 2.0\n",
    "\n",
    "\n",
    "\n",
    "import numpy as np \n",
    "matrix=construct_distance_matrix_alt2(hists_relative)"
   ]
  },
  {
   "cell_type": "code",
   "execution_count": null,
   "metadata": {},
   "outputs": [
    {
     "data": {
      "text/plain": [
       "array([[0.        , 0.68727954, 0.405438  , 0.64837804, 0.40238082,\n",
       "        0.41366259],\n",
       "       [0.68727954, 0.        , 0.7427908 , 0.30940483, 0.66417552,\n",
       "        0.73072972],\n",
       "       [0.405438  , 0.7427908 , 0.        , 0.69009109, 0.41037958,\n",
       "        0.39228161],\n",
       "       [0.64837804, 0.30940483, 0.69009109, 0.        , 0.61979415,\n",
       "        0.67900257],\n",
       "       [0.40238082, 0.66417552, 0.41037958, 0.61979415, 0.        ,\n",
       "        0.40010306],\n",
       "       [0.41366259, 0.73072972, 0.39228161, 0.67900257, 0.40010306,\n",
       "        0.        ]])"
      ]
     },
     "execution_count": 15,
     "metadata": {},
     "output_type": "execute_result"
    }
   ],
   "source": [
    "matrix"
   ]
  },
  {
   "cell_type": "code",
   "execution_count": null,
   "metadata": {},
   "outputs": [],
   "source": []
  }
 ],
 "metadata": {
  "kernelspec": {
   "display_name": "CPET_ENV",
   "language": "python",
   "name": "python3"
  },
  "language_info": {
   "codemirror_mode": {
    "name": "ipython",
    "version": 3
   },
   "file_extension": ".py",
   "mimetype": "text/x-python",
   "name": "python",
   "nbconvert_exporter": "python",
   "pygments_lexer": "ipython3",
   "version": "3.11.5"
  },
  "orig_nbformat": 4
 },
 "nbformat": 4,
 "nbformat_minor": 2
}
